{
 "cells": [
  {
   "cell_type": "code",
   "execution_count": 1,
   "id": "1cc6aba3",
   "metadata": {},
   "outputs": [
    {
     "name": "stdout",
     "output_type": "stream",
     "text": [
      "WARNING:tensorflow:From C:\\Users\\eduar\\anaconda3\\Lib\\site-packages\\keras\\src\\losses.py:2976: The name tf.losses.sparse_softmax_cross_entropy is deprecated. Please use tf.compat.v1.losses.sparse_softmax_cross_entropy instead.\n",
      "\n"
     ]
    }
   ],
   "source": [
    "# Importamos las librerias que usaremos para el correcto funcionamiento del modelo LSTM y GARCH\n",
    "import yfinance as yf\n",
    "import numpy as np\n",
    "import pandas as pd\n",
    "from matplotlib import font_manager\n",
    "import matplotlib.pyplot as plt\n",
    "from sklearn.preprocessing import MinMaxScaler\n",
    "from sklearn.model_selection import train_test_split\n",
    "from tensorflow.keras.models import Sequential\n",
    "from tensorflow.keras.layers import LSTM, Dense, Reshape\n",
    "from sklearn.metrics import mean_absolute_error\n",
    "from arch import arch_model\n",
    "from itertools import groupby\n",
    "from tensorflow.keras.losses import Huber\n",
    "import tensorflow as tf\n",
    "import math \n",
    "import warnings  \n",
    "from matplotlib import font_manager\n",
    "from sklearn.metrics import mean_squared_error, mean_absolute_error\n"
   ]
  },
  {
   "cell_type": "code",
   "execution_count": 2,
   "id": "6e7d2336-1887-4e1f-a591-29ee8a406c1a",
   "metadata": {},
   "outputs": [
    {
     "name": "stdout",
     "output_type": "stream",
     "text": [
      "No hay símbolos repetidos en la lista analizada.\n"
     ]
    }
   ],
   "source": [
    "# Lista de símbolos de 100 Acciones de diferentes empresas del indice S&P 500\n",
    "symbols = ['ABT', 'ADM', 'LRCX', 'AMAT', 'DHR', 'DE', 'DAL', 'ECL', 'CPB', 'BDX', 'BBY', 'BIIB', 'GILD', 'ACN', 'AMGN', 'AAPL', 'MSFT', 'GOOGL', 'AMZN', 'NVDA', 'UPS', 'ADSK', 'ADP', 'AXP', 'AMD', 'ADBE', 'MMM', 'VZ', 'BAC', 'BK', 'AVGO', 'BA', 'BMY', 'COF', 'CAT', 'CVX', 'CSCO', 'C', 'KO', 'CL', 'CMCSA', 'ABBV', 'CNC', 'SCHW', 'COP', 'CVS', 'NEE', 'DIS', 'MDT', 'DUK', 'ETN', 'DD', 'XOM', 'GE', 'FDX', 'F', 'GM', 'GS', 'HAL', 'HOG', 'HON', 'INTC', 'INTU', 'JPM', 'JNJ', 'JCI', 'KMB', 'TSLA', 'LNC', 'LMT', 'LOW', 'MA', 'MCD', 'MRK', 'ORCL', 'MDLZ', 'COST', 'MS', 'NFLX', 'NKE', 'PEP', 'PFE', 'PG', 'PGR', 'PRU', 'QCOM', 'RTX', 'RSG', 'CRM', 'SSNLF', 'SNY', 'SLB', 'ALL', 'FAST', 'FIS', 'EA', 'EIX', 'EMR', 'EOG', 'TGT']\n",
    "\n",
    "# Verificamos si existen símbolos repetidos en el código anterior\n",
    "repeated_symbols = set()\n",
    "unique_symbols = set()\n",
    "\n",
    "for symbol in symbols:\n",
    "    if symbol in unique_symbols:\n",
    "        repeated_symbols.add(symbol)\n",
    "    else:\n",
    "        unique_symbols.add(symbol)\n",
    "\n",
    "if repeated_symbols:\n",
    "    print(\"Estos son los símbolos repetidos en la lista:\")\n",
    "    for symbol in repeated_symbols:\n",
    "        print(symbol)\n",
    "else:\n",
    "    print(\"No hay símbolos repetidos en la lista analizada.\")"
   ]
  },
  {
   "cell_type": "code",
   "execution_count": 3,
   "id": "3ffd3e6f-6f6e-4d3f-8f58-59d1c63f8d2c",
   "metadata": {},
   "outputs": [
    {
     "name": "stdout",
     "output_type": "stream",
     "text": [
      "Acciones únicas por letra del abecedario que no se repiten:\n",
      "A: AAPL, ABBV, ABT, ACN, ADBE, ADM, ADP, ADSK, ALL, AMAT, AMD, AMGN, AMZN, AVGO, AXP\n",
      "B: BA, BAC, BBY, BDX, BIIB, BK, BMY\n",
      "C: C, CAT, CL, CMCSA, CNC, COF, COP, COST, CPB, CRM, CSCO, CVS, CVX\n",
      "D: DAL, DD, DE, DHR, DIS, DUK\n",
      "E: EA, ECL, EIX, EMR, EOG, ETN\n",
      "F: F, FAST, FDX, FIS\n",
      "G: GE, GILD, GM, GOOGL, GS\n",
      "H: HAL, HOG, HON\n",
      "I: INTC, INTU\n",
      "J: JCI, JNJ, JPM\n",
      "K: KMB, KO\n",
      "L: LMT, LNC, LOW, LRCX\n",
      "M: MA, MCD, MDLZ, MDT, MMM, MRK, MS, MSFT\n",
      "N: NEE, NFLX, NKE, NVDA\n",
      "O: ORCL\n",
      "P: PEP, PFE, PG, PGR, PRU\n",
      "Q: QCOM\n",
      "R: RSG, RTX\n",
      "S: SCHW, SLB, SNY, SSNLF\n",
      "T: TGT, TSLA\n",
      "U: UPS\n",
      "V: VZ\n",
      "X: XOM\n"
     ]
    }
   ],
   "source": [
    "# Separamos los símbolos por la primera letra de abecedario para dar orden\n",
    "symbols_by_first_letter = {k: list(g) for k, g in groupby(sorted(symbols), key=lambda x: x[0])}\n",
    "\n",
    "# Imprimimos los símbolos en columnas por la primera letra del abecedario\n",
    "print(\"Acciones únicas por letra del abecedario que no se repiten:\")\n",
    "for letter, symbols_list in symbols_by_first_letter.items():\n",
    "    symbols_str = ', '.join(symbols_list)\n",
    "    print(f\"{letter}: {symbols_str}\")"
   ]
  },
  {
   "cell_type": "code",
   "execution_count": 4,
   "id": "3082ca5b-bdbe-405d-b274-de2c1b845914",
   "metadata": {},
   "outputs": [
    {
     "name": "stderr",
     "output_type": "stream",
     "text": [
      "[*********************100%%**********************]  1 of 1 completed\n"
     ]
    },
    {
     "name": "stdout",
     "output_type": "stream",
     "text": [
      "Descarga 1: Datos históricos de ABT descargados.\n"
     ]
    },
    {
     "name": "stderr",
     "output_type": "stream",
     "text": [
      "[*********************100%%**********************]  1 of 1 completed\n"
     ]
    },
    {
     "name": "stdout",
     "output_type": "stream",
     "text": [
      "Descarga 2: Datos históricos de ADM descargados.\n"
     ]
    },
    {
     "name": "stderr",
     "output_type": "stream",
     "text": [
      "[*********************100%%**********************]  1 of 1 completed\n"
     ]
    },
    {
     "name": "stdout",
     "output_type": "stream",
     "text": [
      "Descarga 3: Datos históricos de LRCX descargados.\n"
     ]
    },
    {
     "name": "stderr",
     "output_type": "stream",
     "text": [
      "[*********************100%%**********************]  1 of 1 completed\n"
     ]
    },
    {
     "name": "stdout",
     "output_type": "stream",
     "text": [
      "Descarga 4: Datos históricos de AMAT descargados.\n"
     ]
    },
    {
     "name": "stderr",
     "output_type": "stream",
     "text": [
      "[*********************100%%**********************]  1 of 1 completed\n"
     ]
    },
    {
     "name": "stdout",
     "output_type": "stream",
     "text": [
      "Descarga 5: Datos históricos de DHR descargados.\n"
     ]
    },
    {
     "name": "stderr",
     "output_type": "stream",
     "text": [
      "[*********************100%%**********************]  1 of 1 completed\n"
     ]
    },
    {
     "name": "stdout",
     "output_type": "stream",
     "text": [
      "Descarga 6: Datos históricos de DE descargados.\n"
     ]
    },
    {
     "name": "stderr",
     "output_type": "stream",
     "text": [
      "[*********************100%%**********************]  1 of 1 completed\n"
     ]
    },
    {
     "name": "stdout",
     "output_type": "stream",
     "text": [
      "Descarga 7: Datos históricos de DAL descargados.\n"
     ]
    },
    {
     "name": "stderr",
     "output_type": "stream",
     "text": [
      "[*********************100%%**********************]  1 of 1 completed\n"
     ]
    },
    {
     "name": "stdout",
     "output_type": "stream",
     "text": [
      "Descarga 8: Datos históricos de ECL descargados.\n"
     ]
    },
    {
     "name": "stderr",
     "output_type": "stream",
     "text": [
      "[*********************100%%**********************]  1 of 1 completed\n"
     ]
    },
    {
     "name": "stdout",
     "output_type": "stream",
     "text": [
      "Descarga 9: Datos históricos de CPB descargados.\n"
     ]
    },
    {
     "name": "stderr",
     "output_type": "stream",
     "text": [
      "[*********************100%%**********************]  1 of 1 completed\n"
     ]
    },
    {
     "name": "stdout",
     "output_type": "stream",
     "text": [
      "Descarga 10: Datos históricos de BDX descargados.\n"
     ]
    },
    {
     "name": "stderr",
     "output_type": "stream",
     "text": [
      "[*********************100%%**********************]  1 of 1 completed\n"
     ]
    },
    {
     "name": "stdout",
     "output_type": "stream",
     "text": [
      "Descarga 11: Datos históricos de BBY descargados.\n"
     ]
    },
    {
     "name": "stderr",
     "output_type": "stream",
     "text": [
      "[*********************100%%**********************]  1 of 1 completed\n"
     ]
    },
    {
     "name": "stdout",
     "output_type": "stream",
     "text": [
      "Descarga 12: Datos históricos de BIIB descargados.\n"
     ]
    },
    {
     "name": "stderr",
     "output_type": "stream",
     "text": [
      "[*********************100%%**********************]  1 of 1 completed\n"
     ]
    },
    {
     "name": "stdout",
     "output_type": "stream",
     "text": [
      "Descarga 13: Datos históricos de GILD descargados.\n"
     ]
    },
    {
     "name": "stderr",
     "output_type": "stream",
     "text": [
      "[*********************100%%**********************]  1 of 1 completed\n"
     ]
    },
    {
     "name": "stdout",
     "output_type": "stream",
     "text": [
      "Descarga 14: Datos históricos de ACN descargados.\n"
     ]
    },
    {
     "name": "stderr",
     "output_type": "stream",
     "text": [
      "[*********************100%%**********************]  1 of 1 completed\n"
     ]
    },
    {
     "name": "stdout",
     "output_type": "stream",
     "text": [
      "Descarga 15: Datos históricos de AMGN descargados.\n"
     ]
    },
    {
     "name": "stderr",
     "output_type": "stream",
     "text": [
      "[*********************100%%**********************]  1 of 1 completed\n"
     ]
    },
    {
     "name": "stdout",
     "output_type": "stream",
     "text": [
      "Descarga 16: Datos históricos de AAPL descargados.\n"
     ]
    },
    {
     "name": "stderr",
     "output_type": "stream",
     "text": [
      "[*********************100%%**********************]  1 of 1 completed\n"
     ]
    },
    {
     "name": "stdout",
     "output_type": "stream",
     "text": [
      "Descarga 17: Datos históricos de MSFT descargados.\n"
     ]
    },
    {
     "name": "stderr",
     "output_type": "stream",
     "text": [
      "[*********************100%%**********************]  1 of 1 completed\n"
     ]
    },
    {
     "name": "stdout",
     "output_type": "stream",
     "text": [
      "Descarga 18: Datos históricos de GOOGL descargados.\n"
     ]
    },
    {
     "name": "stderr",
     "output_type": "stream",
     "text": [
      "[*********************100%%**********************]  1 of 1 completed\n"
     ]
    },
    {
     "name": "stdout",
     "output_type": "stream",
     "text": [
      "Descarga 19: Datos históricos de AMZN descargados.\n"
     ]
    },
    {
     "name": "stderr",
     "output_type": "stream",
     "text": [
      "[*********************100%%**********************]  1 of 1 completed\n"
     ]
    },
    {
     "name": "stdout",
     "output_type": "stream",
     "text": [
      "Descarga 20: Datos históricos de NVDA descargados.\n"
     ]
    },
    {
     "name": "stderr",
     "output_type": "stream",
     "text": [
      "[*********************100%%**********************]  1 of 1 completed\n"
     ]
    },
    {
     "name": "stdout",
     "output_type": "stream",
     "text": [
      "Descarga 21: Datos históricos de UPS descargados.\n"
     ]
    },
    {
     "name": "stderr",
     "output_type": "stream",
     "text": [
      "[*********************100%%**********************]  1 of 1 completed\n"
     ]
    },
    {
     "name": "stdout",
     "output_type": "stream",
     "text": [
      "Descarga 22: Datos históricos de ADSK descargados.\n"
     ]
    },
    {
     "name": "stderr",
     "output_type": "stream",
     "text": [
      "[*********************100%%**********************]  1 of 1 completed\n"
     ]
    },
    {
     "name": "stdout",
     "output_type": "stream",
     "text": [
      "Descarga 23: Datos históricos de ADP descargados.\n"
     ]
    },
    {
     "name": "stderr",
     "output_type": "stream",
     "text": [
      "[*********************100%%**********************]  1 of 1 completed\n"
     ]
    },
    {
     "name": "stdout",
     "output_type": "stream",
     "text": [
      "Descarga 24: Datos históricos de AXP descargados.\n"
     ]
    },
    {
     "name": "stderr",
     "output_type": "stream",
     "text": [
      "[*********************100%%**********************]  1 of 1 completed\n"
     ]
    },
    {
     "name": "stdout",
     "output_type": "stream",
     "text": [
      "Descarga 25: Datos históricos de AMD descargados.\n"
     ]
    },
    {
     "name": "stderr",
     "output_type": "stream",
     "text": [
      "[*********************100%%**********************]  1 of 1 completed\n"
     ]
    },
    {
     "name": "stdout",
     "output_type": "stream",
     "text": [
      "Descarga 26: Datos históricos de ADBE descargados.\n"
     ]
    },
    {
     "name": "stderr",
     "output_type": "stream",
     "text": [
      "[*********************100%%**********************]  1 of 1 completed\n"
     ]
    },
    {
     "name": "stdout",
     "output_type": "stream",
     "text": [
      "Descarga 27: Datos históricos de MMM descargados.\n"
     ]
    },
    {
     "name": "stderr",
     "output_type": "stream",
     "text": [
      "[*********************100%%**********************]  1 of 1 completed\n"
     ]
    },
    {
     "name": "stdout",
     "output_type": "stream",
     "text": [
      "Descarga 28: Datos históricos de VZ descargados.\n"
     ]
    },
    {
     "name": "stderr",
     "output_type": "stream",
     "text": [
      "[*********************100%%**********************]  1 of 1 completed\n"
     ]
    },
    {
     "name": "stdout",
     "output_type": "stream",
     "text": [
      "Descarga 29: Datos históricos de BAC descargados.\n"
     ]
    },
    {
     "name": "stderr",
     "output_type": "stream",
     "text": [
      "[*********************100%%**********************]  1 of 1 completed\n"
     ]
    },
    {
     "name": "stdout",
     "output_type": "stream",
     "text": [
      "Descarga 30: Datos históricos de BK descargados.\n"
     ]
    },
    {
     "name": "stderr",
     "output_type": "stream",
     "text": [
      "[*********************100%%**********************]  1 of 1 completed\n"
     ]
    },
    {
     "name": "stdout",
     "output_type": "stream",
     "text": [
      "Descarga 31: Datos históricos de AVGO descargados.\n"
     ]
    },
    {
     "name": "stderr",
     "output_type": "stream",
     "text": [
      "[*********************100%%**********************]  1 of 1 completed\n"
     ]
    },
    {
     "name": "stdout",
     "output_type": "stream",
     "text": [
      "Descarga 32: Datos históricos de BA descargados.\n"
     ]
    },
    {
     "name": "stderr",
     "output_type": "stream",
     "text": [
      "[*********************100%%**********************]  1 of 1 completed\n"
     ]
    },
    {
     "name": "stdout",
     "output_type": "stream",
     "text": [
      "Descarga 33: Datos históricos de BMY descargados.\n"
     ]
    },
    {
     "name": "stderr",
     "output_type": "stream",
     "text": [
      "[*********************100%%**********************]  1 of 1 completed\n"
     ]
    },
    {
     "name": "stdout",
     "output_type": "stream",
     "text": [
      "Descarga 34: Datos históricos de COF descargados.\n"
     ]
    },
    {
     "name": "stderr",
     "output_type": "stream",
     "text": [
      "[*********************100%%**********************]  1 of 1 completed\n"
     ]
    },
    {
     "name": "stdout",
     "output_type": "stream",
     "text": [
      "Descarga 35: Datos históricos de CAT descargados.\n"
     ]
    },
    {
     "name": "stderr",
     "output_type": "stream",
     "text": [
      "[*********************100%%**********************]  1 of 1 completed\n"
     ]
    },
    {
     "name": "stdout",
     "output_type": "stream",
     "text": [
      "Descarga 36: Datos históricos de CVX descargados.\n"
     ]
    },
    {
     "name": "stderr",
     "output_type": "stream",
     "text": [
      "[*********************100%%**********************]  1 of 1 completed\n"
     ]
    },
    {
     "name": "stdout",
     "output_type": "stream",
     "text": [
      "Descarga 37: Datos históricos de CSCO descargados.\n"
     ]
    },
    {
     "name": "stderr",
     "output_type": "stream",
     "text": [
      "[*********************100%%**********************]  1 of 1 completed\n"
     ]
    },
    {
     "name": "stdout",
     "output_type": "stream",
     "text": [
      "Descarga 38: Datos históricos de C descargados.\n"
     ]
    },
    {
     "name": "stderr",
     "output_type": "stream",
     "text": [
      "[*********************100%%**********************]  1 of 1 completed\n"
     ]
    },
    {
     "name": "stdout",
     "output_type": "stream",
     "text": [
      "Descarga 39: Datos históricos de KO descargados.\n"
     ]
    },
    {
     "name": "stderr",
     "output_type": "stream",
     "text": [
      "[*********************100%%**********************]  1 of 1 completed\n"
     ]
    },
    {
     "name": "stdout",
     "output_type": "stream",
     "text": [
      "Descarga 40: Datos históricos de CL descargados.\n"
     ]
    },
    {
     "name": "stderr",
     "output_type": "stream",
     "text": [
      "[*********************100%%**********************]  1 of 1 completed\n"
     ]
    },
    {
     "name": "stdout",
     "output_type": "stream",
     "text": [
      "Descarga 41: Datos históricos de CMCSA descargados.\n"
     ]
    },
    {
     "name": "stderr",
     "output_type": "stream",
     "text": [
      "[*********************100%%**********************]  1 of 1 completed\n"
     ]
    },
    {
     "name": "stdout",
     "output_type": "stream",
     "text": [
      "Descarga 42: Datos históricos de ABBV descargados.\n"
     ]
    },
    {
     "name": "stderr",
     "output_type": "stream",
     "text": [
      "[*********************100%%**********************]  1 of 1 completed\n"
     ]
    },
    {
     "name": "stdout",
     "output_type": "stream",
     "text": [
      "Descarga 43: Datos históricos de CNC descargados.\n"
     ]
    },
    {
     "name": "stderr",
     "output_type": "stream",
     "text": [
      "[*********************100%%**********************]  1 of 1 completed\n"
     ]
    },
    {
     "name": "stdout",
     "output_type": "stream",
     "text": [
      "Descarga 44: Datos históricos de SCHW descargados.\n"
     ]
    },
    {
     "name": "stderr",
     "output_type": "stream",
     "text": [
      "[*********************100%%**********************]  1 of 1 completed\n"
     ]
    },
    {
     "name": "stdout",
     "output_type": "stream",
     "text": [
      "Descarga 45: Datos históricos de COP descargados.\n"
     ]
    },
    {
     "name": "stderr",
     "output_type": "stream",
     "text": [
      "[*********************100%%**********************]  1 of 1 completed\n"
     ]
    },
    {
     "name": "stdout",
     "output_type": "stream",
     "text": [
      "Descarga 46: Datos históricos de CVS descargados.\n"
     ]
    },
    {
     "name": "stderr",
     "output_type": "stream",
     "text": [
      "[*********************100%%**********************]  1 of 1 completed\n"
     ]
    },
    {
     "name": "stdout",
     "output_type": "stream",
     "text": [
      "Descarga 47: Datos históricos de NEE descargados.\n"
     ]
    },
    {
     "name": "stderr",
     "output_type": "stream",
     "text": [
      "[*********************100%%**********************]  1 of 1 completed\n"
     ]
    },
    {
     "name": "stdout",
     "output_type": "stream",
     "text": [
      "Descarga 48: Datos históricos de DIS descargados.\n"
     ]
    },
    {
     "name": "stderr",
     "output_type": "stream",
     "text": [
      "[*********************100%%**********************]  1 of 1 completed\n"
     ]
    },
    {
     "name": "stdout",
     "output_type": "stream",
     "text": [
      "Descarga 49: Datos históricos de MDT descargados.\n"
     ]
    },
    {
     "name": "stderr",
     "output_type": "stream",
     "text": [
      "[*********************100%%**********************]  1 of 1 completed\n"
     ]
    },
    {
     "name": "stdout",
     "output_type": "stream",
     "text": [
      "Descarga 50: Datos históricos de DUK descargados.\n"
     ]
    },
    {
     "name": "stderr",
     "output_type": "stream",
     "text": [
      "[*********************100%%**********************]  1 of 1 completed\n"
     ]
    },
    {
     "name": "stdout",
     "output_type": "stream",
     "text": [
      "Descarga 51: Datos históricos de ETN descargados.\n"
     ]
    },
    {
     "name": "stderr",
     "output_type": "stream",
     "text": [
      "[*********************100%%**********************]  1 of 1 completed\n"
     ]
    },
    {
     "name": "stdout",
     "output_type": "stream",
     "text": [
      "Descarga 52: Datos históricos de DD descargados.\n"
     ]
    },
    {
     "name": "stderr",
     "output_type": "stream",
     "text": [
      "[*********************100%%**********************]  1 of 1 completed\n"
     ]
    },
    {
     "name": "stdout",
     "output_type": "stream",
     "text": [
      "Descarga 53: Datos históricos de XOM descargados.\n"
     ]
    },
    {
     "name": "stderr",
     "output_type": "stream",
     "text": [
      "[*********************100%%**********************]  1 of 1 completed\n"
     ]
    },
    {
     "name": "stdout",
     "output_type": "stream",
     "text": [
      "Descarga 54: Datos históricos de GE descargados.\n"
     ]
    },
    {
     "name": "stderr",
     "output_type": "stream",
     "text": [
      "[*********************100%%**********************]  1 of 1 completed\n"
     ]
    },
    {
     "name": "stdout",
     "output_type": "stream",
     "text": [
      "Descarga 55: Datos históricos de FDX descargados.\n"
     ]
    },
    {
     "name": "stderr",
     "output_type": "stream",
     "text": [
      "[*********************100%%**********************]  1 of 1 completed\n"
     ]
    },
    {
     "name": "stdout",
     "output_type": "stream",
     "text": [
      "Descarga 56: Datos históricos de F descargados.\n"
     ]
    },
    {
     "name": "stderr",
     "output_type": "stream",
     "text": [
      "[*********************100%%**********************]  1 of 1 completed\n"
     ]
    },
    {
     "name": "stdout",
     "output_type": "stream",
     "text": [
      "Descarga 57: Datos históricos de GM descargados.\n"
     ]
    },
    {
     "name": "stderr",
     "output_type": "stream",
     "text": [
      "[*********************100%%**********************]  1 of 1 completed\n"
     ]
    },
    {
     "name": "stdout",
     "output_type": "stream",
     "text": [
      "Descarga 58: Datos históricos de GS descargados.\n"
     ]
    },
    {
     "name": "stderr",
     "output_type": "stream",
     "text": [
      "[*********************100%%**********************]  1 of 1 completed\n"
     ]
    },
    {
     "name": "stdout",
     "output_type": "stream",
     "text": [
      "Descarga 59: Datos históricos de HAL descargados.\n"
     ]
    },
    {
     "name": "stderr",
     "output_type": "stream",
     "text": [
      "[*********************100%%**********************]  1 of 1 completed\n"
     ]
    },
    {
     "name": "stdout",
     "output_type": "stream",
     "text": [
      "Descarga 60: Datos históricos de HOG descargados.\n"
     ]
    },
    {
     "name": "stderr",
     "output_type": "stream",
     "text": [
      "[*********************100%%**********************]  1 of 1 completed\n"
     ]
    },
    {
     "name": "stdout",
     "output_type": "stream",
     "text": [
      "Descarga 61: Datos históricos de HON descargados.\n"
     ]
    },
    {
     "name": "stderr",
     "output_type": "stream",
     "text": [
      "[*********************100%%**********************]  1 of 1 completed\n"
     ]
    },
    {
     "name": "stdout",
     "output_type": "stream",
     "text": [
      "Descarga 62: Datos históricos de INTC descargados.\n"
     ]
    },
    {
     "name": "stderr",
     "output_type": "stream",
     "text": [
      "[*********************100%%**********************]  1 of 1 completed\n"
     ]
    },
    {
     "name": "stdout",
     "output_type": "stream",
     "text": [
      "Descarga 63: Datos históricos de INTU descargados.\n"
     ]
    },
    {
     "name": "stderr",
     "output_type": "stream",
     "text": [
      "[*********************100%%**********************]  1 of 1 completed\n"
     ]
    },
    {
     "name": "stdout",
     "output_type": "stream",
     "text": [
      "Descarga 64: Datos históricos de JPM descargados.\n"
     ]
    },
    {
     "name": "stderr",
     "output_type": "stream",
     "text": [
      "[*********************100%%**********************]  1 of 1 completed\n"
     ]
    },
    {
     "name": "stdout",
     "output_type": "stream",
     "text": [
      "Descarga 65: Datos históricos de JNJ descargados.\n"
     ]
    },
    {
     "name": "stderr",
     "output_type": "stream",
     "text": [
      "[*********************100%%**********************]  1 of 1 completed\n"
     ]
    },
    {
     "name": "stdout",
     "output_type": "stream",
     "text": [
      "Descarga 66: Datos históricos de JCI descargados.\n"
     ]
    },
    {
     "name": "stderr",
     "output_type": "stream",
     "text": [
      "[*********************100%%**********************]  1 of 1 completed\n"
     ]
    },
    {
     "name": "stdout",
     "output_type": "stream",
     "text": [
      "Descarga 67: Datos históricos de KMB descargados.\n"
     ]
    },
    {
     "name": "stderr",
     "output_type": "stream",
     "text": [
      "[*********************100%%**********************]  1 of 1 completed\n"
     ]
    },
    {
     "name": "stdout",
     "output_type": "stream",
     "text": [
      "Descarga 68: Datos históricos de TSLA descargados.\n"
     ]
    },
    {
     "name": "stderr",
     "output_type": "stream",
     "text": [
      "[*********************100%%**********************]  1 of 1 completed\n"
     ]
    },
    {
     "name": "stdout",
     "output_type": "stream",
     "text": [
      "Descarga 69: Datos históricos de LNC descargados.\n"
     ]
    },
    {
     "name": "stderr",
     "output_type": "stream",
     "text": [
      "[*********************100%%**********************]  1 of 1 completed\n"
     ]
    },
    {
     "name": "stdout",
     "output_type": "stream",
     "text": [
      "Descarga 70: Datos históricos de LMT descargados.\n"
     ]
    },
    {
     "name": "stderr",
     "output_type": "stream",
     "text": [
      "[*********************100%%**********************]  1 of 1 completed"
     ]
    },
    {
     "name": "stdout",
     "output_type": "stream",
     "text": [
      "Descarga 71: Datos históricos de LOW descargados.\n"
     ]
    },
    {
     "name": "stderr",
     "output_type": "stream",
     "text": [
      "\n",
      "[*********************100%%**********************]  1 of 1 completed\n"
     ]
    },
    {
     "name": "stdout",
     "output_type": "stream",
     "text": [
      "Descarga 72: Datos históricos de MA descargados.\n"
     ]
    },
    {
     "name": "stderr",
     "output_type": "stream",
     "text": [
      "[*********************100%%**********************]  1 of 1 completed\n"
     ]
    },
    {
     "name": "stdout",
     "output_type": "stream",
     "text": [
      "Descarga 73: Datos históricos de MCD descargados.\n"
     ]
    },
    {
     "name": "stderr",
     "output_type": "stream",
     "text": [
      "[*********************100%%**********************]  1 of 1 completed\n"
     ]
    },
    {
     "name": "stdout",
     "output_type": "stream",
     "text": [
      "Descarga 74: Datos históricos de MRK descargados.\n"
     ]
    },
    {
     "name": "stderr",
     "output_type": "stream",
     "text": [
      "[*********************100%%**********************]  1 of 1 completed\n"
     ]
    },
    {
     "name": "stdout",
     "output_type": "stream",
     "text": [
      "Descarga 75: Datos históricos de ORCL descargados.\n"
     ]
    },
    {
     "name": "stderr",
     "output_type": "stream",
     "text": [
      "[*********************100%%**********************]  1 of 1 completed\n"
     ]
    },
    {
     "name": "stdout",
     "output_type": "stream",
     "text": [
      "Descarga 76: Datos históricos de MDLZ descargados.\n"
     ]
    },
    {
     "name": "stderr",
     "output_type": "stream",
     "text": [
      "[*********************100%%**********************]  1 of 1 completed\n"
     ]
    },
    {
     "name": "stdout",
     "output_type": "stream",
     "text": [
      "Descarga 77: Datos históricos de COST descargados.\n"
     ]
    },
    {
     "name": "stderr",
     "output_type": "stream",
     "text": [
      "[*********************100%%**********************]  1 of 1 completed\n"
     ]
    },
    {
     "name": "stdout",
     "output_type": "stream",
     "text": [
      "Descarga 78: Datos históricos de MS descargados.\n"
     ]
    },
    {
     "name": "stderr",
     "output_type": "stream",
     "text": [
      "[*********************100%%**********************]  1 of 1 completed\n"
     ]
    },
    {
     "name": "stdout",
     "output_type": "stream",
     "text": [
      "Descarga 79: Datos históricos de NFLX descargados.\n"
     ]
    },
    {
     "name": "stderr",
     "output_type": "stream",
     "text": [
      "[*********************100%%**********************]  1 of 1 completed\n"
     ]
    },
    {
     "name": "stdout",
     "output_type": "stream",
     "text": [
      "Descarga 80: Datos históricos de NKE descargados.\n"
     ]
    },
    {
     "name": "stderr",
     "output_type": "stream",
     "text": [
      "[*********************100%%**********************]  1 of 1 completed\n"
     ]
    },
    {
     "name": "stdout",
     "output_type": "stream",
     "text": [
      "Descarga 81: Datos históricos de PEP descargados.\n"
     ]
    },
    {
     "name": "stderr",
     "output_type": "stream",
     "text": [
      "[*********************100%%**********************]  1 of 1 completed\n"
     ]
    },
    {
     "name": "stdout",
     "output_type": "stream",
     "text": [
      "Descarga 82: Datos históricos de PFE descargados.\n"
     ]
    },
    {
     "name": "stderr",
     "output_type": "stream",
     "text": [
      "[*********************100%%**********************]  1 of 1 completed\n"
     ]
    },
    {
     "name": "stdout",
     "output_type": "stream",
     "text": [
      "Descarga 83: Datos históricos de PG descargados.\n"
     ]
    },
    {
     "name": "stderr",
     "output_type": "stream",
     "text": [
      "[*********************100%%**********************]  1 of 1 completed\n"
     ]
    },
    {
     "name": "stdout",
     "output_type": "stream",
     "text": [
      "Descarga 84: Datos históricos de PGR descargados.\n"
     ]
    },
    {
     "name": "stderr",
     "output_type": "stream",
     "text": [
      "[*********************100%%**********************]  1 of 1 completed\n"
     ]
    },
    {
     "name": "stdout",
     "output_type": "stream",
     "text": [
      "Descarga 85: Datos históricos de PRU descargados.\n"
     ]
    },
    {
     "name": "stderr",
     "output_type": "stream",
     "text": [
      "[*********************100%%**********************]  1 of 1 completed\n"
     ]
    },
    {
     "name": "stdout",
     "output_type": "stream",
     "text": [
      "Descarga 86: Datos históricos de QCOM descargados.\n"
     ]
    },
    {
     "name": "stderr",
     "output_type": "stream",
     "text": [
      "[*********************100%%**********************]  1 of 1 completed\n"
     ]
    },
    {
     "name": "stdout",
     "output_type": "stream",
     "text": [
      "Descarga 87: Datos históricos de RTX descargados.\n"
     ]
    },
    {
     "name": "stderr",
     "output_type": "stream",
     "text": [
      "[*********************100%%**********************]  1 of 1 completed\n"
     ]
    },
    {
     "name": "stdout",
     "output_type": "stream",
     "text": [
      "Descarga 88: Datos históricos de RSG descargados.\n"
     ]
    },
    {
     "name": "stderr",
     "output_type": "stream",
     "text": [
      "[*********************100%%**********************]  1 of 1 completed\n"
     ]
    },
    {
     "name": "stdout",
     "output_type": "stream",
     "text": [
      "Descarga 89: Datos históricos de CRM descargados.\n"
     ]
    },
    {
     "name": "stderr",
     "output_type": "stream",
     "text": [
      "[*********************100%%**********************]  1 of 1 completed\n"
     ]
    },
    {
     "name": "stdout",
     "output_type": "stream",
     "text": [
      "Descarga 90: Datos históricos de SSNLF descargados.\n"
     ]
    },
    {
     "name": "stderr",
     "output_type": "stream",
     "text": [
      "[*********************100%%**********************]  1 of 1 completed\n"
     ]
    },
    {
     "name": "stdout",
     "output_type": "stream",
     "text": [
      "Descarga 91: Datos históricos de SNY descargados.\n"
     ]
    },
    {
     "name": "stderr",
     "output_type": "stream",
     "text": [
      "[*********************100%%**********************]  1 of 1 completed\n"
     ]
    },
    {
     "name": "stdout",
     "output_type": "stream",
     "text": [
      "Descarga 92: Datos históricos de SLB descargados.\n"
     ]
    },
    {
     "name": "stderr",
     "output_type": "stream",
     "text": [
      "[*********************100%%**********************]  1 of 1 completed\n"
     ]
    },
    {
     "name": "stdout",
     "output_type": "stream",
     "text": [
      "Descarga 93: Datos históricos de ALL descargados.\n"
     ]
    },
    {
     "name": "stderr",
     "output_type": "stream",
     "text": [
      "[*********************100%%**********************]  1 of 1 completed\n"
     ]
    },
    {
     "name": "stdout",
     "output_type": "stream",
     "text": [
      "Descarga 94: Datos históricos de FAST descargados.\n"
     ]
    },
    {
     "name": "stderr",
     "output_type": "stream",
     "text": [
      "[*********************100%%**********************]  1 of 1 completed\n"
     ]
    },
    {
     "name": "stdout",
     "output_type": "stream",
     "text": [
      "Descarga 95: Datos históricos de FIS descargados.\n"
     ]
    },
    {
     "name": "stderr",
     "output_type": "stream",
     "text": [
      "[*********************100%%**********************]  1 of 1 completed\n"
     ]
    },
    {
     "name": "stdout",
     "output_type": "stream",
     "text": [
      "Descarga 96: Datos históricos de EA descargados.\n"
     ]
    },
    {
     "name": "stderr",
     "output_type": "stream",
     "text": [
      "[*********************100%%**********************]  1 of 1 completed\n"
     ]
    },
    {
     "name": "stdout",
     "output_type": "stream",
     "text": [
      "Descarga 97: Datos históricos de EIX descargados.\n"
     ]
    },
    {
     "name": "stderr",
     "output_type": "stream",
     "text": [
      "[*********************100%%**********************]  1 of 1 completed\n"
     ]
    },
    {
     "name": "stdout",
     "output_type": "stream",
     "text": [
      "Descarga 98: Datos históricos de EMR descargados.\n"
     ]
    },
    {
     "name": "stderr",
     "output_type": "stream",
     "text": [
      "[*********************100%%**********************]  1 of 1 completed\n"
     ]
    },
    {
     "name": "stdout",
     "output_type": "stream",
     "text": [
      "Descarga 99: Datos históricos de EOG descargados.\n"
     ]
    },
    {
     "name": "stderr",
     "output_type": "stream",
     "text": [
      "[*********************100%%**********************]  1 of 1 completed"
     ]
    },
    {
     "name": "stdout",
     "output_type": "stream",
     "text": [
      "Descarga 100: Datos históricos de TGT descargados.\n"
     ]
    },
    {
     "name": "stderr",
     "output_type": "stream",
     "text": [
      "\n"
     ]
    }
   ],
   "source": [
    "# Descargar datos históricos de las 100 acciones de empresas del indice S&P 500 desde el año 2015 hasta el año 2023\n",
    "data_frames = []\n",
    "download_count = 1\n",
    "\n",
    "for symbol in symbols:\n",
    "    # Descargar datos históricos de las 100 acciones del S&P 500\n",
    "    stock_data = yf.download(symbol, start='2015-01-01', end='2023-12-31')\n",
    "\n",
    "    # Añadimos a la lista solo las columnas que deseamos ver, precio cierre y volumen\n",
    "    if ('Close' in stock_data.columns) and ('Volume' in stock_data.columns):\n",
    "        data_frames.append(stock_data[['Close', 'Volume']])\n",
    "        print(f\"Descarga {download_count}: Datos históricos de {symbol} descargados.\")\n",
    "        download_count += 1\n",
    "    else:\n",
    "        print(f\"No se encontraron las columnas 'Close' y 'Volume' para {symbol}.\")"
   ]
  },
  {
   "cell_type": "code",
   "execution_count": 5,
   "id": "f1647c2d-ee4c-43b8-8cf8-eda425bd6088",
   "metadata": {},
   "outputs": [
    {
     "name": "stdout",
     "output_type": "stream",
     "text": [
      "Empty DataFrame\n",
      "Columns: [(ABT, Close), (ABT, Volume), (ADM, Close), (ADM, Volume), (LRCX, Close), (LRCX, Volume), (AMAT, Close), (AMAT, Volume), (DHR, Close), (DHR, Volume), (DE, Close), (DE, Volume), (DAL, Close), (DAL, Volume), (ECL, Close), (ECL, Volume), (CPB, Close), (CPB, Volume), (BDX, Close), (BDX, Volume), (BBY, Close), (BBY, Volume), (BIIB, Close), (BIIB, Volume), (GILD, Close), (GILD, Volume), (ACN, Close), (ACN, Volume), (AMGN, Close), (AMGN, Volume), (AAPL, Close), (AAPL, Volume), (MSFT, Close), (MSFT, Volume), (GOOGL, Close), (GOOGL, Volume), (AMZN, Close), (AMZN, Volume), (NVDA, Close), (NVDA, Volume), (UPS, Close), (UPS, Volume), (ADSK, Close), (ADSK, Volume), (ADP, Close), (ADP, Volume), (AXP, Close), (AXP, Volume), (AMD, Close), (AMD, Volume), (ADBE, Close), (ADBE, Volume), (MMM, Close), (MMM, Volume), (VZ, Close), (VZ, Volume), (BAC, Close), (BAC, Volume), (BK, Close), (BK, Volume), (AVGO, Close), (AVGO, Volume), (BA, Close), (BA, Volume), (BMY, Close), (BMY, Volume), (COF, Close), (COF, Volume), (CAT, Close), (CAT, Volume), (CVX, Close), (CVX, Volume), (CSCO, Close), (CSCO, Volume), (C, Close), (C, Volume), (KO, Close), (KO, Volume), (CL, Close), (CL, Volume), (CMCSA, Close), (CMCSA, Volume), (ABBV, Close), (ABBV, Volume), (CNC, Close), (CNC, Volume), (SCHW, Close), (SCHW, Volume), (COP, Close), (COP, Volume), (CVS, Close), (CVS, Volume), (NEE, Close), (NEE, Volume), (DIS, Close), (DIS, Volume), (MDT, Close), (MDT, Volume), (DUK, Close), (DUK, Volume), ...]\n",
      "Index: []\n",
      "\n",
      "[0 rows x 200 columns]\n",
      "Columnas con valores NaN: []\n"
     ]
    }
   ],
   "source": [
    "# Lista de DataFrames que contienen las columnas 'Close' y 'Volume' de cada empresa seleccionada\n",
    "# Concatenamos los datos\n",
    "data = pd.concat(data_frames, axis=1, keys=symbols, names=['Symbol', 'Data'])\n",
    "\n",
    "# Reemplazamos posibles datos infinitos por NaN\n",
    "data = data.replace([np.inf, -np.inf], np.nan)\n",
    "\n",
    "# Filtrar las filas con valores NaN en alguna columna\n",
    "filas_con_nan = data[data.isna().any(axis=1)]\n",
    "print(filas_con_nan)\n",
    "\n",
    "# Encontrar las columnas con valores NaN\n",
    "columnas_con_nan = data.columns[data.isna().any()].tolist()\n",
    "print(\"Columnas con valores NaN:\", columnas_con_nan)"
   ]
  },
  {
   "cell_type": "code",
   "execution_count": 6,
   "id": "8850e649-fbb1-4e96-9159-b745efb4d406",
   "metadata": {},
   "outputs": [],
   "source": [
    "# Normalizar los datos\n",
    "scaler = MinMaxScaler(feature_range=(0, 1))\n",
    "scaled_data = scaler.fit_transform(data)\n",
    "\n",
    "# Ajustamos el índice y las columnas\n",
    "data = pd.DataFrame(scaled_data, index=data.index, columns=data.columns)\n",
    "\n",
    "# Parámetros elegidos para el modelo LSTM\n",
    "SEQ_LEN = 5  # Días de historia\n",
    "PRED_LEN = 2  # Días a predecir en el futuro"
   ]
  },
  {
   "cell_type": "code",
   "execution_count": 7,
   "id": "4b648eb9-53f0-4570-9b17-fc8380b9a7b1",
   "metadata": {},
   "outputs": [],
   "source": [
    "# Función para preprocesar los datos de la serie temporal para prepararlos para su uso en un modelo de red LSTM\n",
    "def preprocess_data(data, seq_len, pred_len):\n",
    "    X, y = [], []\n",
    "\n",
    "    for i in range(len(data) - seq_len - pred_len):\n",
    "        # Secuencia de entrada\n",
    "        seq = data[i:i + seq_len]\n",
    "        x = seq.values.reshape(1, seq_len, data.shape[1])\n",
    "        X.append(x)\n",
    "\n",
    "        # Predicción a futuro\n",
    "        pred = data.iloc[i + seq_len:i + seq_len + pred_len].values\n",
    "        y.append(pred)\n",
    "\n",
    "    return np.array(X), np.array(y)"
   ]
  },
  {
   "cell_type": "code",
   "execution_count": 8,
   "id": "32c711a3-1113-4ab3-8ce5-86f466fa12d6",
   "metadata": {},
   "outputs": [
    {
     "name": "stdout",
     "output_type": "stream",
     "text": [
      "False False\n",
      "False False\n"
     ]
    }
   ],
   "source": [
    "# Preprocesar los datos\n",
    "X, y = preprocess_data(pd.DataFrame(scaled_data), SEQ_LEN, PRED_LEN)\n",
    "X = np.squeeze(X, axis=1)\n",
    "\n",
    "# Verificar la presencia de NaN o infinitos en los conjuntos de entrenamiento y prueba\n",
    "print(np.isnan(X).any(), np.isnan(y).any())\n",
    "print(np.isinf(X).any(), np.isinf(y).any())\n",
    "\n",
    "# Dividir los datos en conjuntos de entrenamiento y prueba\n",
    "X_train, X_test, y_train, y_test = train_test_split(X, y, test_size=0.2, shuffle=False, random_state=42)\n"
   ]
  },
  {
   "cell_type": "code",
   "execution_count": 9,
   "id": "91f6801b-a9d9-45b4-bf6a-557b8e8611d2",
   "metadata": {
    "scrolled": true
   },
   "outputs": [
    {
     "name": "stdout",
     "output_type": "stream",
     "text": [
      "Números aleatorios de numpy: [0.22199317 0.87073231 0.20671916 0.91861091 0.48841119]\n",
      "Números aleatorios de TensorFlow: tf.Tensor([0.6263931  0.5298432  0.7584572  0.5084884  0.34415376], shape=(5,), dtype=float32)\n"
     ]
    }
   ],
   "source": [
    "# Fijamos una semilla en Numpy \n",
    "seed = 5\n",
    "np.random.seed(seed)\n",
    "tf.random.set_seed(seed)\n",
    "\n",
    "# Generar números aleatorios con numpy\n",
    "np_random_numbers = np.random.rand(5)\n",
    "print(\"Números aleatorios de numpy:\", np_random_numbers)\n",
    "\n",
    "# Generar números aleatorios con TensorFlow\n",
    "tf_random_numbers = tf.random.uniform([5])\n",
    "print(\"Números aleatorios de TensorFlow:\", tf_random_numbers)"
   ]
  },
  {
   "cell_type": "code",
   "execution_count": 10,
   "id": "13bd8d58-7e79-4634-b6ed-435654c74f75",
   "metadata": {},
   "outputs": [
    {
     "name": "stdout",
     "output_type": "stream",
     "text": [
      "WARNING:tensorflow:From C:\\Users\\eduar\\anaconda3\\Lib\\site-packages\\keras\\src\\backend.py:873: The name tf.get_default_graph is deprecated. Please use tf.compat.v1.get_default_graph instead.\n",
      "\n",
      "WARNING:tensorflow:From C:\\Users\\eduar\\anaconda3\\Lib\\site-packages\\keras\\src\\optimizers\\__init__.py:309: The name tf.train.Optimizer is deprecated. Please use tf.compat.v1.train.Optimizer instead.\n",
      "\n",
      "Epoch 1/200\n",
      "WARNING:tensorflow:From C:\\Users\\eduar\\anaconda3\\Lib\\site-packages\\keras\\src\\utils\\tf_utils.py:492: The name tf.ragged.RaggedTensorValue is deprecated. Please use tf.compat.v1.ragged.RaggedTensorValue instead.\n",
      "\n",
      "57/57 [==============================] - 3s 19ms/step - loss: 0.0090\n",
      "Epoch 2/200\n",
      "57/57 [==============================] - 1s 20ms/step - loss: 0.0025\n",
      "Epoch 3/200\n",
      "57/57 [==============================] - 1s 20ms/step - loss: 0.0020\n",
      "Epoch 4/200\n",
      "57/57 [==============================] - 1s 22ms/step - loss: 0.0018\n",
      "Epoch 5/200\n",
      "57/57 [==============================] - 1s 20ms/step - loss: 0.0017\n",
      "Epoch 6/200\n",
      "57/57 [==============================] - 1s 22ms/step - loss: 0.0016\n",
      "Epoch 7/200\n",
      "57/57 [==============================] - 1s 24ms/step - loss: 0.0015\n",
      "Epoch 8/200\n",
      "57/57 [==============================] - 1s 26ms/step - loss: 0.0015\n",
      "Epoch 9/200\n",
      "57/57 [==============================] - 2s 27ms/step - loss: 0.0014\n",
      "Epoch 10/200\n",
      "57/57 [==============================] - 1s 26ms/step - loss: 0.0014\n",
      "Epoch 11/200\n",
      "57/57 [==============================] - 1s 19ms/step - loss: 0.0014\n",
      "Epoch 12/200\n",
      "57/57 [==============================] - 1s 17ms/step - loss: 0.0014\n",
      "Epoch 13/200\n",
      "57/57 [==============================] - 1s 17ms/step - loss: 0.0013\n",
      "Epoch 14/200\n",
      "57/57 [==============================] - 1s 18ms/step - loss: 0.0013\n",
      "Epoch 15/200\n",
      "57/57 [==============================] - 1s 18ms/step - loss: 0.0013\n",
      "Epoch 16/200\n",
      "57/57 [==============================] - 1s 18ms/step - loss: 0.0013\n",
      "Epoch 17/200\n",
      "57/57 [==============================] - 1s 18ms/step - loss: 0.0012\n",
      "Epoch 18/200\n",
      "57/57 [==============================] - 1s 18ms/step - loss: 0.0012\n",
      "Epoch 19/200\n",
      "57/57 [==============================] - 1s 19ms/step - loss: 0.0012\n",
      "Epoch 20/200\n",
      "57/57 [==============================] - 1s 19ms/step - loss: 0.0012\n",
      "Epoch 21/200\n",
      "57/57 [==============================] - 1s 18ms/step - loss: 0.0012\n",
      "Epoch 22/200\n",
      "57/57 [==============================] - 1s 18ms/step - loss: 0.0012\n",
      "Epoch 23/200\n",
      "57/57 [==============================] - 1s 17ms/step - loss: 0.0012\n",
      "Epoch 24/200\n",
      "57/57 [==============================] - 1s 17ms/step - loss: 0.0011\n",
      "Epoch 25/200\n",
      "57/57 [==============================] - 1s 19ms/step - loss: 0.0011\n",
      "Epoch 26/200\n",
      "57/57 [==============================] - 1s 19ms/step - loss: 0.0011\n",
      "Epoch 27/200\n",
      "57/57 [==============================] - 1s 18ms/step - loss: 0.0011\n",
      "Epoch 28/200\n",
      "57/57 [==============================] - 1s 18ms/step - loss: 0.0011\n",
      "Epoch 29/200\n",
      "57/57 [==============================] - 1s 17ms/step - loss: 0.0011\n",
      "Epoch 30/200\n",
      "57/57 [==============================] - 1s 17ms/step - loss: 0.0011\n",
      "Epoch 31/200\n",
      "57/57 [==============================] - 1s 21ms/step - loss: 0.0011\n",
      "Epoch 32/200\n",
      "57/57 [==============================] - 1s 20ms/step - loss: 0.0011\n",
      "Epoch 33/200\n",
      "57/57 [==============================] - 1s 17ms/step - loss: 0.0011\n",
      "Epoch 34/200\n",
      "57/57 [==============================] - 1s 17ms/step - loss: 0.0011\n",
      "Epoch 35/200\n",
      "57/57 [==============================] - 1s 21ms/step - loss: 0.0011\n",
      "Epoch 36/200\n",
      "57/57 [==============================] - 1s 20ms/step - loss: 0.0011\n",
      "Epoch 37/200\n",
      "57/57 [==============================] - 1s 18ms/step - loss: 0.0010\n",
      "Epoch 38/200\n",
      "57/57 [==============================] - 1s 18ms/step - loss: 0.0010\n",
      "Epoch 39/200\n",
      "57/57 [==============================] - 1s 18ms/step - loss: 0.0010\n",
      "Epoch 40/200\n",
      "57/57 [==============================] - 1s 18ms/step - loss: 0.0010\n",
      "Epoch 41/200\n",
      "57/57 [==============================] - 1s 18ms/step - loss: 0.0010\n",
      "Epoch 42/200\n",
      "57/57 [==============================] - 1s 17ms/step - loss: 0.0010\n",
      "Epoch 43/200\n",
      "57/57 [==============================] - 1s 17ms/step - loss: 9.9975e-04\n",
      "Epoch 44/200\n",
      "57/57 [==============================] - 1s 17ms/step - loss: 9.8520e-04\n",
      "Epoch 45/200\n",
      "57/57 [==============================] - 1s 20ms/step - loss: 9.7510e-04\n",
      "Epoch 46/200\n",
      "57/57 [==============================] - 1s 17ms/step - loss: 9.7965e-04\n",
      "Epoch 47/200\n",
      "57/57 [==============================] - 1s 18ms/step - loss: 9.8562e-04\n",
      "Epoch 48/200\n",
      "57/57 [==============================] - 1s 18ms/step - loss: 9.6357e-04\n",
      "Epoch 49/200\n",
      "57/57 [==============================] - 1s 19ms/step - loss: 9.6808e-04\n",
      "Epoch 50/200\n",
      "57/57 [==============================] - 1s 18ms/step - loss: 9.5459e-04\n",
      "Epoch 51/200\n",
      "57/57 [==============================] - 1s 18ms/step - loss: 9.6143e-04\n",
      "Epoch 52/200\n",
      "57/57 [==============================] - 1s 19ms/step - loss: 9.4528e-04\n",
      "Epoch 53/200\n",
      "57/57 [==============================] - 1s 18ms/step - loss: 9.3891e-04\n",
      "Epoch 54/200\n",
      "57/57 [==============================] - 1s 17ms/step - loss: 9.4379e-04\n",
      "Epoch 55/200\n",
      "57/57 [==============================] - 1s 18ms/step - loss: 9.2927e-04\n",
      "Epoch 56/200\n",
      "57/57 [==============================] - 1s 19ms/step - loss: 9.0855e-04\n",
      "Epoch 57/200\n",
      "57/57 [==============================] - 1s 19ms/step - loss: 9.0338e-04\n",
      "Epoch 58/200\n",
      "57/57 [==============================] - 1s 18ms/step - loss: 9.0908e-04\n",
      "Epoch 59/200\n",
      "57/57 [==============================] - 1s 22ms/step - loss: 8.9569e-04\n",
      "Epoch 60/200\n",
      "57/57 [==============================] - 1s 20ms/step - loss: 9.0002e-04\n",
      "Epoch 61/200\n",
      "57/57 [==============================] - 1s 19ms/step - loss: 9.0558e-04\n",
      "Epoch 62/200\n",
      "57/57 [==============================] - 1s 22ms/step - loss: 8.7675e-04\n",
      "Epoch 63/200\n",
      "57/57 [==============================] - 1s 20ms/step - loss: 8.8741e-04\n",
      "Epoch 64/200\n",
      "57/57 [==============================] - 1s 21ms/step - loss: 8.8753e-04\n",
      "Epoch 65/200\n",
      "57/57 [==============================] - 1s 21ms/step - loss: 8.8349e-04\n",
      "Epoch 66/200\n",
      "57/57 [==============================] - 1s 22ms/step - loss: 8.6215e-04\n",
      "Epoch 67/200\n",
      "57/57 [==============================] - 1s 23ms/step - loss: 8.6284e-04\n",
      "Epoch 68/200\n",
      "57/57 [==============================] - 1s 21ms/step - loss: 8.5266e-04\n",
      "Epoch 69/200\n",
      "57/57 [==============================] - 1s 19ms/step - loss: 8.5538e-04\n",
      "Epoch 70/200\n",
      "57/57 [==============================] - 1s 19ms/step - loss: 8.5080e-04\n",
      "Epoch 71/200\n",
      "57/57 [==============================] - 1s 19ms/step - loss: 8.3950e-04\n",
      "Epoch 72/200\n",
      "57/57 [==============================] - 1s 20ms/step - loss: 8.4920e-04\n",
      "Epoch 73/200\n",
      "57/57 [==============================] - 1s 19ms/step - loss: 8.2355e-04\n",
      "Epoch 74/200\n",
      "57/57 [==============================] - 1s 19ms/step - loss: 8.2585e-04\n",
      "Epoch 75/200\n",
      "57/57 [==============================] - 1s 19ms/step - loss: 8.3118e-04\n",
      "Epoch 76/200\n",
      "57/57 [==============================] - 1s 25ms/step - loss: 8.1757e-04\n",
      "Epoch 77/200\n",
      "57/57 [==============================] - 1s 23ms/step - loss: 8.1273e-04\n",
      "Epoch 78/200\n",
      "57/57 [==============================] - 1s 21ms/step - loss: 8.0331e-04\n",
      "Epoch 79/200\n",
      "57/57 [==============================] - 1s 22ms/step - loss: 8.1133e-04\n",
      "Epoch 80/200\n",
      "57/57 [==============================] - 1s 21ms/step - loss: 8.0389e-04\n",
      "Epoch 81/200\n",
      "57/57 [==============================] - 1s 18ms/step - loss: 7.9929e-04\n",
      "Epoch 82/200\n",
      "57/57 [==============================] - 1s 18ms/step - loss: 7.9223e-04\n",
      "Epoch 83/200\n",
      "57/57 [==============================] - 1s 18ms/step - loss: 7.8123e-04\n",
      "Epoch 84/200\n",
      "57/57 [==============================] - 1s 21ms/step - loss: 7.8315e-04\n",
      "Epoch 85/200\n",
      "57/57 [==============================] - 1s 18ms/step - loss: 7.8027e-04\n",
      "Epoch 86/200\n",
      "57/57 [==============================] - 1s 18ms/step - loss: 7.6983e-04\n",
      "Epoch 87/200\n",
      "57/57 [==============================] - 1s 18ms/step - loss: 7.6692e-04\n",
      "Epoch 88/200\n",
      "57/57 [==============================] - 1s 18ms/step - loss: 7.7228e-04\n",
      "Epoch 89/200\n",
      "57/57 [==============================] - 1s 17ms/step - loss: 7.5512e-04\n",
      "Epoch 90/200\n",
      "57/57 [==============================] - 1s 17ms/step - loss: 7.5380e-04\n",
      "Epoch 91/200\n",
      "57/57 [==============================] - 1s 18ms/step - loss: 7.6418e-04\n",
      "Epoch 92/200\n",
      "57/57 [==============================] - 1s 18ms/step - loss: 7.4280e-04\n",
      "Epoch 93/200\n",
      "57/57 [==============================] - 1s 18ms/step - loss: 7.4051e-04\n",
      "Epoch 94/200\n",
      "57/57 [==============================] - 1s 18ms/step - loss: 7.4214e-04\n",
      "Epoch 95/200\n",
      "57/57 [==============================] - 1s 19ms/step - loss: 7.3799e-04\n",
      "Epoch 96/200\n",
      "57/57 [==============================] - 1s 18ms/step - loss: 7.2552e-04\n",
      "Epoch 97/200\n",
      "57/57 [==============================] - 1s 17ms/step - loss: 7.3704e-04\n",
      "Epoch 98/200\n",
      "57/57 [==============================] - 1s 18ms/step - loss: 7.2351e-04\n",
      "Epoch 99/200\n",
      "57/57 [==============================] - 1s 20ms/step - loss: 7.1919e-04\n",
      "Epoch 100/200\n",
      "57/57 [==============================] - 1s 17ms/step - loss: 7.2002e-04\n",
      "Epoch 101/200\n",
      "57/57 [==============================] - 1s 17ms/step - loss: 7.0896e-04\n",
      "Epoch 102/200\n",
      "57/57 [==============================] - 1s 17ms/step - loss: 7.0775e-04\n",
      "Epoch 103/200\n",
      "57/57 [==============================] - 1s 17ms/step - loss: 7.0202e-04\n",
      "Epoch 104/200\n",
      "57/57 [==============================] - 1s 17ms/step - loss: 7.0835e-04\n",
      "Epoch 105/200\n",
      "57/57 [==============================] - 1s 18ms/step - loss: 7.1006e-04\n",
      "Epoch 106/200\n",
      "57/57 [==============================] - 1s 21ms/step - loss: 6.9396e-04\n",
      "Epoch 107/200\n",
      "57/57 [==============================] - 1s 19ms/step - loss: 6.9614e-04\n",
      "Epoch 108/200\n",
      "57/57 [==============================] - 1s 18ms/step - loss: 6.8673e-04\n",
      "Epoch 109/200\n",
      "57/57 [==============================] - 1s 18ms/step - loss: 6.8549e-04\n",
      "Epoch 110/200\n",
      "57/57 [==============================] - 1s 18ms/step - loss: 6.8084e-04\n",
      "Epoch 111/200\n",
      "57/57 [==============================] - 1s 18ms/step - loss: 6.7588e-04\n",
      "Epoch 112/200\n",
      "57/57 [==============================] - 1s 17ms/step - loss: 6.7940e-04\n",
      "Epoch 113/200\n",
      "57/57 [==============================] - 1s 18ms/step - loss: 6.6877e-04\n",
      "Epoch 114/200\n",
      "57/57 [==============================] - 1s 18ms/step - loss: 6.7229e-04\n",
      "Epoch 115/200\n",
      "57/57 [==============================] - 1s 18ms/step - loss: 6.6893e-04\n",
      "Epoch 116/200\n",
      "57/57 [==============================] - 1s 17ms/step - loss: 6.5071e-04\n",
      "Epoch 117/200\n",
      "57/57 [==============================] - 1s 18ms/step - loss: 6.4981e-04\n",
      "Epoch 118/200\n",
      "57/57 [==============================] - 1s 22ms/step - loss: 6.5493e-04\n",
      "Epoch 119/200\n",
      "57/57 [==============================] - 1s 18ms/step - loss: 6.4638e-04\n",
      "Epoch 120/200\n",
      "57/57 [==============================] - 1s 18ms/step - loss: 6.4682e-04\n",
      "Epoch 121/200\n",
      "57/57 [==============================] - 1s 17ms/step - loss: 6.4320e-04\n",
      "Epoch 122/200\n",
      "57/57 [==============================] - 1s 18ms/step - loss: 6.4638e-04\n",
      "Epoch 123/200\n",
      "57/57 [==============================] - 1s 18ms/step - loss: 6.3071e-04\n",
      "Epoch 124/200\n",
      "57/57 [==============================] - 1s 18ms/step - loss: 6.3385e-04\n",
      "Epoch 125/200\n",
      "57/57 [==============================] - 1s 18ms/step - loss: 6.2967e-04\n",
      "Epoch 126/200\n",
      "57/57 [==============================] - 1s 18ms/step - loss: 6.3414e-04\n",
      "Epoch 127/200\n",
      "57/57 [==============================] - 1s 17ms/step - loss: 6.2051e-04\n",
      "Epoch 128/200\n",
      "57/57 [==============================] - 1s 18ms/step - loss: 6.1720e-04\n",
      "Epoch 129/200\n",
      "57/57 [==============================] - 1s 21ms/step - loss: 6.1684e-04\n",
      "Epoch 130/200\n",
      "57/57 [==============================] - 1s 18ms/step - loss: 6.1601e-04\n",
      "Epoch 131/200\n",
      "57/57 [==============================] - 1s 17ms/step - loss: 6.0075e-04\n",
      "Epoch 132/200\n",
      "57/57 [==============================] - 1s 17ms/step - loss: 6.0926e-04\n",
      "Epoch 133/200\n",
      "57/57 [==============================] - 1s 17ms/step - loss: 6.0313e-04\n",
      "Epoch 134/200\n",
      "57/57 [==============================] - 1s 18ms/step - loss: 5.9823e-04\n",
      "Epoch 135/200\n",
      "57/57 [==============================] - 1s 19ms/step - loss: 5.9029e-04\n",
      "Epoch 136/200\n",
      "57/57 [==============================] - 1s 22ms/step - loss: 5.9539e-04\n",
      "Epoch 137/200\n",
      "57/57 [==============================] - 1s 17ms/step - loss: 5.9214e-04\n",
      "Epoch 138/200\n",
      "57/57 [==============================] - 1s 18ms/step - loss: 5.8626e-04\n",
      "Epoch 139/200\n",
      "57/57 [==============================] - 1s 18ms/step - loss: 5.9480e-04\n",
      "Epoch 140/200\n",
      "57/57 [==============================] - 1s 18ms/step - loss: 5.8180e-04\n",
      "Epoch 141/200\n",
      "57/57 [==============================] - 1s 18ms/step - loss: 5.9230e-04\n",
      "Epoch 142/200\n",
      "57/57 [==============================] - 1s 17ms/step - loss: 5.8542e-04\n",
      "Epoch 143/200\n",
      "57/57 [==============================] - 1s 17ms/step - loss: 5.7903e-04\n",
      "Epoch 144/200\n",
      "57/57 [==============================] - 1s 17ms/step - loss: 5.7036e-04\n",
      "Epoch 145/200\n",
      "57/57 [==============================] - 1s 17ms/step - loss: 5.6790e-04\n",
      "Epoch 146/200\n",
      "57/57 [==============================] - 1s 17ms/step - loss: 5.7279e-04\n",
      "Epoch 147/200\n",
      "57/57 [==============================] - 1s 17ms/step - loss: 5.6883e-04\n",
      "Epoch 148/200\n",
      "57/57 [==============================] - 1s 17ms/step - loss: 5.6075e-04\n",
      "Epoch 149/200\n",
      "57/57 [==============================] - 1s 18ms/step - loss: 5.5793e-04\n",
      "Epoch 150/200\n",
      "57/57 [==============================] - 1s 17ms/step - loss: 5.6355e-04\n",
      "Epoch 151/200\n",
      "57/57 [==============================] - 1s 17ms/step - loss: 5.5481e-04\n",
      "Epoch 152/200\n",
      "57/57 [==============================] - 1s 17ms/step - loss: 5.5380e-04\n",
      "Epoch 153/200\n",
      "57/57 [==============================] - 1s 21ms/step - loss: 5.5524e-04\n",
      "Epoch 154/200\n",
      "57/57 [==============================] - 1s 20ms/step - loss: 5.5406e-04\n",
      "Epoch 155/200\n",
      "57/57 [==============================] - 1s 22ms/step - loss: 5.4511e-04\n",
      "Epoch 156/200\n",
      "57/57 [==============================] - 1s 18ms/step - loss: 5.4745e-04\n",
      "Epoch 157/200\n",
      "57/57 [==============================] - 1s 20ms/step - loss: 5.4124e-04\n",
      "Epoch 158/200\n",
      "57/57 [==============================] - 1s 17ms/step - loss: 5.4545e-04\n",
      "Epoch 159/200\n",
      "57/57 [==============================] - 1s 17ms/step - loss: 5.4353e-04\n",
      "Epoch 160/200\n",
      "57/57 [==============================] - 1s 17ms/step - loss: 5.3778e-04\n",
      "Epoch 161/200\n",
      "57/57 [==============================] - 1s 18ms/step - loss: 5.3116e-04\n",
      "Epoch 162/200\n",
      "57/57 [==============================] - 1s 21ms/step - loss: 5.2849e-04\n",
      "Epoch 163/200\n",
      "57/57 [==============================] - 1s 17ms/step - loss: 5.3447e-04\n",
      "Epoch 164/200\n",
      "57/57 [==============================] - 1s 17ms/step - loss: 5.3352e-04\n",
      "Epoch 165/200\n",
      "57/57 [==============================] - 1s 17ms/step - loss: 5.2960e-04\n",
      "Epoch 166/200\n",
      "57/57 [==============================] - 1s 17ms/step - loss: 5.2548e-04\n",
      "Epoch 167/200\n",
      "57/57 [==============================] - 1s 17ms/step - loss: 5.2520e-04\n",
      "Epoch 168/200\n",
      "57/57 [==============================] - 1s 17ms/step - loss: 5.2427e-04\n",
      "Epoch 169/200\n",
      "57/57 [==============================] - 1s 17ms/step - loss: 5.2166e-04\n",
      "Epoch 170/200\n",
      "57/57 [==============================] - 1s 19ms/step - loss: 5.1682e-04\n",
      "Epoch 171/200\n",
      "57/57 [==============================] - 1s 19ms/step - loss: 5.1837e-04\n",
      "Epoch 172/200\n",
      "57/57 [==============================] - 1s 18ms/step - loss: 5.1223e-04\n",
      "Epoch 173/200\n",
      "57/57 [==============================] - 1s 18ms/step - loss: 5.1559e-04\n",
      "Epoch 174/200\n",
      "57/57 [==============================] - 1s 19ms/step - loss: 5.1189e-04\n",
      "Epoch 175/200\n",
      "57/57 [==============================] - 1s 19ms/step - loss: 5.1126e-04\n",
      "Epoch 176/200\n",
      "57/57 [==============================] - 1s 19ms/step - loss: 5.0567e-04\n",
      "Epoch 177/200\n",
      "57/57 [==============================] - 1s 21ms/step - loss: 5.1501e-04\n",
      "Epoch 178/200\n",
      "57/57 [==============================] - 1s 20ms/step - loss: 5.1232e-04\n",
      "Epoch 179/200\n",
      "57/57 [==============================] - 1s 18ms/step - loss: 5.0445e-04\n",
      "Epoch 180/200\n",
      "57/57 [==============================] - 1s 25ms/step - loss: 5.0100e-04\n",
      "Epoch 181/200\n",
      "57/57 [==============================] - 1s 17ms/step - loss: 5.0251e-04\n",
      "Epoch 182/200\n",
      "57/57 [==============================] - 1s 17ms/step - loss: 5.0123e-04\n",
      "Epoch 183/200\n",
      "57/57 [==============================] - 1s 17ms/step - loss: 4.9876e-04\n",
      "Epoch 184/200\n",
      "57/57 [==============================] - 1s 19ms/step - loss: 5.0261e-04\n",
      "Epoch 185/200\n",
      "57/57 [==============================] - 1s 18ms/step - loss: 4.9263e-04\n",
      "Epoch 186/200\n",
      "57/57 [==============================] - 1s 18ms/step - loss: 4.9172e-04\n",
      "Epoch 187/200\n",
      "57/57 [==============================] - 1s 18ms/step - loss: 4.9055e-04\n",
      "Epoch 188/200\n",
      "57/57 [==============================] - 1s 18ms/step - loss: 4.9243e-04\n",
      "Epoch 189/200\n",
      "57/57 [==============================] - 1s 17ms/step - loss: 4.8757e-04\n",
      "Epoch 190/200\n",
      "57/57 [==============================] - 1s 17ms/step - loss: 4.9290e-04\n",
      "Epoch 191/200\n",
      "57/57 [==============================] - 1s 17ms/step - loss: 4.8707e-04\n",
      "Epoch 192/200\n",
      "57/57 [==============================] - 1s 17ms/step - loss: 4.9113e-04\n",
      "Epoch 193/200\n",
      "57/57 [==============================] - 1s 17ms/step - loss: 4.8510e-04\n",
      "Epoch 194/200\n",
      "57/57 [==============================] - 1s 17ms/step - loss: 4.8225e-04\n",
      "Epoch 195/200\n",
      "57/57 [==============================] - 1s 17ms/step - loss: 4.8693e-04\n",
      "Epoch 196/200\n",
      "57/57 [==============================] - 1s 17ms/step - loss: 4.8197e-04\n",
      "Epoch 197/200\n",
      "57/57 [==============================] - 1s 17ms/step - loss: 4.7817e-04\n",
      "Epoch 198/200\n",
      "57/57 [==============================] - 1s 17ms/step - loss: 4.7824e-04\n",
      "Epoch 199/200\n",
      "57/57 [==============================] - 1s 20ms/step - loss: 4.7433e-04\n",
      "Epoch 200/200\n",
      "57/57 [==============================] - 1s 21ms/step - loss: 4.7492e-04\n",
      "15/15 [==============================] - 0s 5ms/step - loss: 0.0094\n",
      "Loss en conjunto de prueba: 0.009356755763292313\n",
      "15/15 [==============================] - 0s 5ms/step\n"
     ]
    }
   ],
   "source": [
    "# Configuración del modelo LSTM\n",
    "model = Sequential()\n",
    "model.add(LSTM(units=500, activation='relu', input_shape=(SEQ_LEN, data.shape[1])))\n",
    "model.add(Dense(PRED_LEN * data.shape[1], activation='linear'))\n",
    "model.add(Reshape((PRED_LEN, data.shape[1])))\n",
    "model.compile(optimizer='adam', loss=Huber())\n",
    "\n",
    "# Entrenamiento del modelo\n",
    "model.fit(X_train, y_train, epochs=200, batch_size=32)\n",
    "\n",
    "# Evaluación del modelo\n",
    "loss = model.evaluate(X_test, y_test)\n",
    "print(f'Loss en conjunto de prueba: {loss}')\n",
    "\n",
    "# Realizar predicciones\n",
    "predictions = model.predict(X_test)"
   ]
  },
  {
   "cell_type": "code",
   "execution_count": null,
   "id": "04a3b88a-8daa-4d0e-aa72-27301e02a9c5",
   "metadata": {},
   "outputs": [],
   "source": [
    "# Función para aplicar suavizado exponencial\n",
    "def exponential_smoothing(data, alpha):\n",
    "    # Convertir a DataFrame de Pandas\n",
    "    data_df = pd.DataFrame(data)\n",
    "    smoothed_data = data_df.ewm(alpha=alpha, adjust=False).mean()\n",
    "    return smoothed_data.values.flatten()  # Convertir de nuevo a array NumPy después del suavizado\n",
    "\n",
    "# Definir el número de filas y columnas para los subplots\n",
    "num_cols = 2  # número de columnas\n",
    "num_rows = 3  # número de filas\n",
    "plots_per_figure = num_cols * num_rows\n",
    "\n",
    "# Colores para las predicciones\n",
    "prediction_colors = ['blue', 'green', 'red', 'purple', 'brown'] * ((len(symbols) // 5) + 1)\n",
    "\n",
    "# Tamaños de fuente y marcadores\n",
    "font_size_title = 11\n",
    "font_size_labels = 11\n",
    "font_size_legend = 11\n",
    "marker_size = 0.5\n",
    "\n",
    "# Graficar predicciones y valores reales para cada empresa\n",
    "for fig_num in range((len(symbols) // plots_per_figure) + 1):\n",
    "    fig, axs = plt.subplots(num_rows, num_cols, figsize=(20, 15))\n",
    "    axs = axs.flatten()\n",
    "\n",
    "    for i in range(plots_per_figure):\n",
    "        symbol_index = fig_num * plots_per_figure + i\n",
    "        if symbol_index >= len(symbols):\n",
    "            break\n",
    "        symbol = symbols[symbol_index]\n",
    "        ax = axs[i]\n",
    "\n",
    "        # Aplicar suavizado exponencial a las predicciones\n",
    "        smoothed_predictions = exponential_smoothing(predictions[:, :, symbol_index].reshape(-1), alpha=0.2)\n",
    "\n",
    "        # Graficar predicciones suavizadas con colores diferentes\n",
    "        ax.plot(smoothed_predictions, label=f'Predicciones {symbol} (Suavizadas)', color=prediction_colors[symbol_index], marker='o', linestyle='--', markersize=marker_size)\n",
    "\n",
    "        # Graficar valores reales con color constante (naranja)\n",
    "        ax.plot(y_test[:, :, symbol_index].reshape(-1), label=f'Valores Reales {symbol}', color='orange', marker='x', linestyle='-', markersize=marker_size)\n",
    "\n",
    "        # Configurar título, etiquetas y leyenda\n",
    "        ax.set_title(f'Predicciones vs Valores Reales para {symbol}', fontsize=font_size_title)\n",
    "        ax.set_xlabel('Tiempo', fontsize=font_size_labels)\n",
    "        ax.set_ylabel('Valor', fontsize=font_size_labels)\n",
    "        ax.legend(fontsize=font_size_legend)\n",
    "    \n",
    "    plt.tight_layout()\n",
    "    plt.show()"
   ]
  },
  {
   "cell_type": "code",
   "execution_count": null,
   "id": "bd09c6d5-bb68-4a3f-86aa-20fea7ffb01b",
   "metadata": {},
   "outputs": [],
   "source": [
    "# Calcular el MAE\n",
    "mae_test = mean_absolute_error(y_test.reshape(-1, data.shape[1]), predictions.reshape(-1, data.shape[1]), multioutput='raw_values')\n",
    "\n",
    "# Calcular el MSE\n",
    "mse_test = mean_squared_error(y_test.reshape(-1, data.shape[1]), predictions.reshape(-1, data.shape[1]), multioutput='raw_values')\n",
    "\n",
    "# Calcular el RMSE\n",
    "rmse_test = np.sqrt(mse_test)\n",
    "\n",
    "# Crear un DataFrame para organizar los resultados\n",
    "df_results = pd.DataFrame({\n",
    "    'Variable': range(1, data.shape[1] + 1),\n",
    "    'MAE': mae_test,\n",
    "    'MSE': mse_test,\n",
    "    'RMSE': rmse_test\n",
    "})\n",
    "\n",
    "# Configurar Pandas para mostrar todas las filas y columnas\n",
    "pd.set_option('display.max_rows', None)\n",
    "pd.set_option('display.max_columns', None)\n",
    "\n",
    "# Imprimir los resultados ordenados\n",
    "print(df_results)"
   ]
  },
  {
   "cell_type": "code",
   "execution_count": null,
   "id": "9319cc96-e8be-47eb-b279-d02fd186d289",
   "metadata": {},
   "outputs": [],
   "source": [
    "# Lista de símbolos de 100 Acciones de diferentes empresas del S&P 500\n",
    "symbols = ['ABT', 'ADM', 'LRCX', 'AMAT', 'DHR', 'DE', 'DE', 'ECL', 'CPB', 'BDX', 'BBY', 'BIIB', 'GILD', 'ACN', 'AMGN', 'AAPL', 'MSFT', 'GOOGL', 'AMZN', 'NVDA', 'UPS', 'ADSK', 'ADP', 'AXP', 'AMD', 'ADBE', 'MMM', 'VZ', 'AMD', 'BK', 'AVGO', 'BA', 'BMY', 'COF', 'CAT', 'CVX', 'CSCO', 'C', 'KO', 'CL', 'CMCSA', 'ABBV', 'CNC', 'SCHW', 'COP', 'CVS', 'NEE', 'DIS', 'MDT', 'DUK', 'ETN', 'DD', 'XOM', 'GE', 'FDX', 'F', 'GM', 'GS', 'HAL', 'HOG', 'HON', 'INTC', 'INTU', 'JPM', 'JNJ', 'JCI', 'KMB', 'TSLA', 'LNC', 'LMT', 'LOW', 'MA', 'MCD', 'MRK', 'ORCL', 'MDLZ', 'COST', 'MS', 'NFLX', 'NKE', 'PEP', 'PFE', 'PG', 'PGR', 'PRU', 'QCOM', 'RTX', 'RSG', 'CRM', 'SSNLF', 'SNY', 'SLB', 'ALL', 'FAST', 'FIS', 'EA', 'EIX', 'EMR', 'EOG', 'TGT']\n",
    "\n",
    "# Función para obtener datos históricos de una acción y calcular rentabilidad y volatilidad\n",
    "def calcular_rentabilidad_y_volatilidad(symbol):\n",
    "    # Obtener datos históricos desde el año 2015 hasta 2023\n",
    "    data = yf.download(symbol, start=\"2015-01-01\", end=\"2023-12-31\")\n",
    "\n",
    "    # Calcular la rentabilidad\n",
    "    data['Rentabilidad'] = (data['Close'] / data['Close'].shift(1) - 1) * 100\n",
    "\n",
    "    # Calcular la volatilidad\n",
    "    data['Volatilidad'] = data['Rentabilidad'].rolling(window=252).std() * (252 ** 0.5)\n",
    "\n",
    "    # Agrupar por año y calcular la rentabilidad media y la volatilidad media\n",
    "    rentabilidad_anual = data['Rentabilidad'].resample('Y').mean()\n",
    "    volatilidad_anual = data['Volatilidad'].resample('Y').mean()\n",
    "\n",
    "    # Retornar los resultados por año\n",
    "    return rentabilidad_anual, volatilidad_anual\n"
   ]
  },
  {
   "cell_type": "code",
   "execution_count": null,
   "id": "93537feb-99bc-4539-92e3-944d36967abe",
   "metadata": {},
   "outputs": [],
   "source": [
    "# Crear un DataFrame vacío para almacenar los resultados\n",
    "resultados = pd.DataFrame(columns=['Símbolo', 'Año', 'Rentabilidad', 'Volatilidad'])\n",
    "\n",
    "# Calcular rentabilidad y volatilidad para cada símbolo\n",
    "for symbol in symbols:\n",
    "    rentabilidad_anual, volatilidad_anual = calcular_rentabilidad_y_volatilidad(symbol)\n",
    "    for year in rentabilidad_anual.index:\n",
    "        resultados.loc[len(resultados)] = [symbol, year.year, rentabilidad_anual[year], volatilidad_anual[year]]\n",
    "\n",
    "# Imprimir los resultados\n",
    "print(resultados)"
   ]
  },
  {
   "cell_type": "code",
   "execution_count": null,
   "id": "b041b465-e596-47d9-93b9-2e719dd9cf1a",
   "metadata": {},
   "outputs": [],
   "source": [
    "# Convertir NaN a 0 en las columnas 'Rentabilidad' y 'Volatilidad'\n",
    "resultados['Rentabilidad'] = resultados['Rentabilidad'].fillna(0)\n",
    "resultados['Volatilidad'] = resultados['Volatilidad'].fillna(0)"
   ]
  },
  {
   "cell_type": "code",
   "execution_count": null,
   "id": "cf650662-d9e5-4184-94f6-6ad9bfd28802",
   "metadata": {},
   "outputs": [],
   "source": [
    "# Ordenar los símbolos alfabéticamente\n",
    "symbols_ordenados = sorted(resultados['Símbolo'].unique())\n",
    "\n",
    "# Lista para almacenar los símbolos con error\n",
    "simbolos_con_error = []\n",
    "\n",
    "# Contadores para rentabilidad y volatilidad\n",
    "rentabilidad_graficos = 0\n",
    "volatilidad_graficos = 0\n",
    "\n",
    "# Definir el número de filas y columnas para los subplots\n",
    "num_cols = 2  # número de columnas\n",
    "num_rows = 3  # número de filas\n",
    "plots_per_figure = num_cols * num_rows"
   ]
  },
  {
   "cell_type": "code",
   "execution_count": null,
   "id": "476ef22b-3f0b-4b02-88fb-874a4c151922",
   "metadata": {},
   "outputs": [],
   "source": [
    "# Función para graficar un conjunto de subplots\n",
    "def plot_subplots(symbols, tipo):\n",
    "    fig, axs = plt.subplots(num_rows, num_cols, figsize=(20, 15))\n",
    "    axs = axs.flatten()\n",
    "    \n",
    "    for i, symbol in enumerate(symbols):\n",
    "        if i >= len(axs):\n",
    "            break\n",
    "        ax = axs[i]\n",
    "        try:\n",
    "            # Obtener los datos de la empresa actual\n",
    "            grupo = resultados[resultados['Símbolo'] == symbol]\n",
    "            \n",
    "            if tipo == 'Rentabilidad':\n",
    "                # Graficar la rentabilidad por año (gráfico de líneas)\n",
    "                rentabilidad_por_ano = grupo.pivot(index='Año', columns='Símbolo', values='Rentabilidad')[symbol]\n",
    "                rentabilidad_por_ano.plot(ax=ax, kind='line', color='orange', label='Rentabilidad')\n",
    "                \n",
    "                # Configurar etiquetas y título del gráfico de rentabilidad\n",
    "                ax.set_title(f'Rentabilidad por Año - {symbol}')\n",
    "                ax.set_xlabel('Año')\n",
    "                ax.set_ylabel('Rentabilidad')\n",
    "                ax.legend(loc='upper left')\n",
    "                \n",
    "                # Incrementar el contador de gráficos de rentabilidad\n",
    "                global rentabilidad_graficos\n",
    "                rentabilidad_graficos += 1\n",
    "                \n",
    "            elif tipo == 'Volatilidad':\n",
    "                # Graficar la volatilidad por año (gráfico de líneas)\n",
    "                volatilidad_por_ano = grupo.pivot(index='Año', columns='Símbolo', values='Volatilidad')[symbol]\n",
    "                volatilidad_por_ano.plot(ax=ax, kind='line', color='blue', label='Volatilidad')\n",
    "                \n",
    "                # Configurar etiquetas y título del gráfico de volatilidad\n",
    "                ax.set_title(f'Volatilidad por Año - {symbol}')\n",
    "                ax.set_xlabel('Año')\n",
    "                ax.set_ylabel('Volatilidad')\n",
    "                ax.legend(loc='upper left')\n",
    "                \n",
    "                # Incrementar el contador de gráficos de volatilidad\n",
    "                global volatilidad_graficos\n",
    "                volatilidad_graficos += 1\n",
    "                \n",
    "        except Exception as e:\n",
    "            # Agregar el símbolo a la lista de errores\n",
    "            simbolos_con_error.append(symbol)\n",
    "            print(f\"Error al graficar {symbol}: {e}\")\n",
    "    \n",
    "    # Ajustar el espaciado alrededor de los gráficos\n",
    "    plt.tight_layout()\n",
    "    \n",
    "    # Mostrar los gráficos\n",
    "    plt.show()\n",
    "\n",
    "# Graficar rentabilidad\n",
    "for fig_num in range((len(symbols_ordenados) // plots_per_figure) + 1):\n",
    "    plot_subplots(symbols_ordenados[fig_num * plots_per_figure:(fig_num + 1) * plots_per_figure], 'Rentabilidad')\n",
    "\n",
    "# Graficar volatilidad\n",
    "for fig_num in range((len(symbols_ordenados) // plots_per_figure) + 1):\n",
    "    plot_subplots(symbols_ordenados[fig_num * plots_per_figure:(fig_num + 1) * plots_per_figure], 'Volatilidad')\n",
    "\n",
    "# Imprimir los símbolos que arrojaron error\n",
    "if simbolos_con_error:\n",
    "    print(\"Símbolos con error al graficar:\")\n",
    "    for simbolo in simbolos_con_error:\n",
    "        print(simbolo)\n",
    "\n",
    "# Imprimir el número de gráficos generados de rentabilidad y volatilidad\n",
    "print(f\"Número de gráficos de Rentabilidad: {rentabilidad_graficos}\")\n",
    "print(f\"Número de gráficos de Volatilidad: {volatilidad_graficos}\")"
   ]
  },
  {
   "cell_type": "code",
   "execution_count": null,
   "id": "e866030b-5966-44ca-941c-a809dc7d8715",
   "metadata": {},
   "outputs": [],
   "source": [
    "# Lista de símbolos de 100 Acciones de diferentes empresas del S&P 500\n",
    "symbols = ['ABT', 'ADM', 'LRCX', 'AMAT', 'DHR', 'DE', 'DE', 'ECL', 'CPB', 'BDX', 'BBY', 'BIIB', 'GILD', 'ACN', 'AMGN',\n",
    "           'AAPL', 'MSFT', 'GOOGL', 'AMZN', 'NVDA', 'UPS', 'ADSK', 'ADP', 'AXP', 'AMD', 'ADBE', 'MMM', 'VZ', 'BAC', 'BK',\n",
    "           'AVGO', 'BA', 'BMY', 'COF', 'CAT', 'CVX', 'CSCO', 'C', 'KO', 'CL', 'CMCSA', 'ABBV', 'CNC', 'SCHW', 'COP', 'CVS',\n",
    "           'NEE', 'DIS', 'MDT', 'DUK', 'ETN', 'DD', 'XOM', 'GE', 'FDX', 'F', 'GM', 'GS', 'HAL', 'HOG', 'HON', 'INTC', 'INTU',\n",
    "           'JPM', 'JNJ', 'JNJ', 'KMB', 'TSLA', 'LNC', 'LMT', 'LOW', 'MA', 'MCD', 'MRK', 'ORCL', 'MDLZ', 'COST', 'MS', 'NFLX',\n",
    "           'NKE', 'PEP', 'PFE', 'PG', 'PGR', 'PRU', 'QCOM', 'RTX', 'RSG', 'CRM', 'SSNLF', 'SNY', 'SLB', 'ALL', 'FAST', 'FIS',\n",
    "           'EA', 'EIX', 'EMR', 'EOG', 'TGT']\n",
    "\n",
    "# DataFrame para almacenar las métricas de evaluación\n",
    "metrics_df = pd.DataFrame(columns=['Symbol', 'AIC', 'BIC', 'Log-Likelihood', 'RMSE', 'MSE', 'MAE'])\n",
    "\n",
    "# Descargar datos históricos para todos los símbolos a la vez\n",
    "data = yf.download(symbols, start='2015-01-01', end='2023-01-01')\n",
    "\n",
    "# Definir el número de filas y columnas para los subplots\n",
    "num_cols = 2\n",
    "num_rows = 3\n",
    "\n",
    "# Inicializar el índice de la tabla\n",
    "table_index = 1\n",
    "\n",
    "for i, symbol in enumerate(symbols):\n",
    "    # Preparación de los datos\n",
    "    symbol_data = data['Adj Close'][symbol].dropna()\n",
    "    returns = symbol_data.pct_change().dropna() * 100  # Convertir a porcentajes\n",
    "\n",
    "    # División de los datos en conjuntos de entrenamiento (80%) y prueba (20%)\n",
    "    train_size = int(0.8 * len(returns))\n",
    "    train, test = returns[:train_size], returns[train_size:]\n",
    "\n",
    "    # Ajuste del modelo GARCH(1,1) al conjunto de entrenamiento\n",
    "    garch_model = arch_model(train, vol='Garch', p=1, q=1)\n",
    "    garch_fit = garch_model.fit(disp=\"off\")\n",
    "\n",
    "    # Evaluación del modelo GARCH en el conjunto de entrenamiento\n",
    "    aic_garch = garch_fit.aic\n",
    "    bic_garch = garch_fit.bic\n",
    "    log_likelihood_garch = garch_fit.loglikelihood\n",
    "\n",
    "    # Predicciones paso a paso\n",
    "    predictions = []\n",
    "    for j in range(len(test)):\n",
    "        model = arch_model(np.concatenate([train, test[:j]]), vol='Garch', p=1, q=1)\n",
    "        model_fit = model.fit(disp=\"off\")\n",
    "        forecast = model_fit.forecast(horizon=1, reindex=False)\n",
    "        predictions.append(forecast.variance.values[-1, 0])\n",
    "\n",
    "    predicted_volatility = np.sqrt(predictions)\n",
    "\n",
    "    # Cálculo de métricas en el conjunto de prueba\n",
    "    rmse_garch = np.sqrt(mean_squared_error(test, predicted_volatility))\n",
    "    mse_garch = mean_squared_error(test, predicted_volatility)\n",
    "    mae_garch = mean_absolute_error(test, predicted_volatility)\n",
    "\n",
    "    # Crear un DataFrame temporal para la fila actual\n",
    "    temp_df = pd.DataFrame([{\n",
    "        'Symbol': symbol,\n",
    "        'AIC': aic_garch,\n",
    "        'BIC': bic_garch,\n",
    "        'Log-Likelihood': log_likelihood_garch,\n",
    "        'RMSE': rmse_garch,\n",
    "        'MSE': mse_garch,\n",
    "        'MAE': mae_garch\n",
    "    }])\n",
    "\n",
    "    # Verificar si temp_df no está vacío o tiene todas las entradas NA antes de concatenar\n",
    "    if not temp_df.empty and not temp_df.isna().all().all():\n",
    "        metrics_df = pd.concat([metrics_df, temp_df], ignore_index=True)\n",
    "\n",
    "    # Graficar los retornos y la volatilidad estimada por el modelo GARCH\n",
    "    if i % (num_cols * num_rows) == 0:\n",
    "        if i > 0:\n",
    "            plt.tight_layout()\n",
    "            plt.show()\n",
    "        fig, ax = plt.subplots(num_rows, num_cols, figsize=(15, 10))\n",
    "        ax = ax.flatten()\n",
    "\n",
    "    ax[i % (num_cols * num_rows)].plot(returns, label='Returns')\n",
    "    ax[i % (num_cols * num_rows)].plot(garch_fit.conditional_volatility, label='GARCH Volatility (Train)', color='blue')\n",
    "    ax[i % (num_cols * num_rows)].plot(test.index, predicted_volatility, label='Predicted Volatility (Test)', color='red')\n",
    "    ax[i % (num_cols * num_rows)].set_title(f'{symbol} GARCH(1,1) Conditional Volatility')\n",
    "    ax[i % (num_cols * num_rows)].legend()\n",
    "\n",
    "    # Imprimir métricas cada 10 símbolos\n",
    "    if (i + 1) % 10 == 0:\n",
    "        print(f\"Tabla {table_index} - Métricas de Evaluación\")\n",
    "        print(metrics_df.iloc[-10:].to_string(index=False))\n",
    "        table_index += 1\n",
    "\n",
    "plt.tight_layout()\n",
    "plt.show()\n",
    "\n",
    "# Imprimir las métricas restantes si hay menos de 10 símbolos al final\n",
    "if len(symbols) % 10 != 0:\n",
    "    print(f\"Tabla {table_index} - Métricas de Evaluación\")\n",
    "    print(metrics_df.iloc[-(len(symbols) % 10):].to_string(index=False))"
   ]
  },
  {
   "cell_type": "code",
   "execution_count": null,
   "id": "26b0cd61-21e7-4e79-8e95-c0e32eac2efb",
   "metadata": {},
   "outputs": [],
   "source": []
  }
 ],
 "metadata": {
  "kernelspec": {
   "display_name": "Python 3 (ipykernel)",
   "language": "python",
   "name": "python3"
  },
  "language_info": {
   "codemirror_mode": {
    "name": "ipython",
    "version": 3
   },
   "file_extension": ".py",
   "mimetype": "text/x-python",
   "name": "python",
   "nbconvert_exporter": "python",
   "pygments_lexer": "ipython3",
   "version": "3.11.7"
  }
 },
 "nbformat": 4,
 "nbformat_minor": 5
}
